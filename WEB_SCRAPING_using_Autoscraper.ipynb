{
  "nbformat": 4,
  "nbformat_minor": 0,
  "metadata": {
    "colab": {
      "name": "WEB SCRAPING using Autoscraper.ipynb",
      "provenance": [],
      "collapsed_sections": []
    },
    "kernelspec": {
      "name": "python3",
      "display_name": "Python 3"
    },
    "language_info": {
      "name": "python"
    }
  },
  "cells": [
    {
      "cell_type": "markdown",
      "metadata": {
        "id": "0kEqpsVjTsm_"
      },
      "source": [
        "#Web Scraping Using AutoScraping"
      ]
    },
    {
      "cell_type": "code",
      "metadata": {
        "colab": {
          "base_uri": "https://localhost:8080/"
        },
        "id": "Ag4IxbuAucj1",
        "outputId": "30e9ccb3-d419-47e4-d0ee-698affa81bca"
      },
      "source": [
        "!pip install autoscraper"
      ],
      "execution_count": null,
      "outputs": [
        {
          "output_type": "stream",
          "text": [
            "Requirement already satisfied: autoscraper in /usr/local/lib/python3.7/dist-packages (1.1.12)\n",
            "Requirement already satisfied: requests in /usr/local/lib/python3.7/dist-packages (from autoscraper) (2.23.0)\n",
            "Requirement already satisfied: lxml in /usr/local/lib/python3.7/dist-packages (from autoscraper) (4.2.6)\n",
            "Requirement already satisfied: bs4 in /usr/local/lib/python3.7/dist-packages (from autoscraper) (0.0.1)\n",
            "Requirement already satisfied: certifi>=2017.4.17 in /usr/local/lib/python3.7/dist-packages (from requests->autoscraper) (2021.5.30)\n",
            "Requirement already satisfied: urllib3!=1.25.0,!=1.25.1,<1.26,>=1.21.1 in /usr/local/lib/python3.7/dist-packages (from requests->autoscraper) (1.24.3)\n",
            "Requirement already satisfied: idna<3,>=2.5 in /usr/local/lib/python3.7/dist-packages (from requests->autoscraper) (2.10)\n",
            "Requirement already satisfied: chardet<4,>=3.0.2 in /usr/local/lib/python3.7/dist-packages (from requests->autoscraper) (3.0.4)\n",
            "Requirement already satisfied: beautifulsoup4 in /usr/local/lib/python3.7/dist-packages (from bs4->autoscraper) (4.6.3)\n"
          ],
          "name": "stdout"
        }
      ]
    },
    {
      "cell_type": "markdown",
      "metadata": {
        "id": "i5LAXHqqT_4t"
      },
      "source": [
        "## Installing AutoScraper library"
      ]
    },
    {
      "cell_type": "code",
      "metadata": {
        "id": "sAm7U0ggva0s"
      },
      "source": [
        "from autoscraper import AutoScraper"
      ],
      "execution_count": null,
      "outputs": []
    },
    {
      "cell_type": "markdown",
      "metadata": {
        "id": "wgGNA1K6UI5t"
      },
      "source": [
        "## Defining url to webscrap and making wishlist to seach"
      ]
    },
    {
      "cell_type": "code",
      "metadata": {
        "colab": {
          "base_uri": "https://localhost:8080/"
        },
        "id": "fBbQDrzNvg6w",
        "outputId": "62dd171e-f1ab-412f-8c40-12d1aabd1efe"
      },
      "source": [
        "url = \"https://www.nykaa.com/brands/l-oreal-professionnel/c/1251?transaction_id=e59832ed107f9745c3020abe5f2ee59e&intcmp=hp,in_the_spotlight,1,l-oreal-professionnel\"\n",
        "\n",
        "wishlist = ['L\\'Oreal Professionnel Absolut Repair Lipidium Shampoo & Masque','₹1337','( 1759 )']\n",
        "\n",
        "scraper = AutoScraper()\n",
        "result = scraper.build(url,wishlist)\n",
        "result"
      ],
      "execution_count": null,
      "outputs": [
        {
          "output_type": "execute_result",
          "data": {
            "text/plain": [
              "[\"L'Oreal Professionnel Absolut Repair Lipidium Shampoo & Masque\",\n",
              " \"L'Oreal Professionnel Mythic Oil Shampoo + Masque + Oil\",\n",
              " \"L'Oreal Professionnel X-Tenso Shampoo + Masque + Serum\",\n",
              " \"L'Oreal Professionnel Serie Expert Shampoo + Masque + Serum\",\n",
              " 'LOreal Professionnel X-Tenso Care Pro-Keratine + Incell Shampoo',\n",
              " \"L'Oreal Professionnel Serie Expert Absolut Repair Gold Quinoa + Protein Masque\",\n",
              " 'LOreal Professionnel Serie Expert Gold Quinoa + Protein Absolut Repair Shampoo',\n",
              " \"L'oreal Professionnel Serie Expert Liss Unlimited Primrose Oil\",\n",
              " \"L'Oreal Professionnel X-Tenso Care Masque\",\n",
              " \"L'Oreal Professionnel X-Tenso Care Sulfate free Shampoo & Masque\",\n",
              " \"L'Oreal Professionnel X-Tenso Care Shampoo Sulfate Free\",\n",
              " \"L'Oreal Professionnel Instant Clear Znpt+Citric Acid Anti Dandruff Shampoo\",\n",
              " \"L'Oreal Professionnel Expert Density Advanced Shampoo\",\n",
              " 'LOreal Professionnel Series Expert Resveratrol Vitamino Color Shampoo',\n",
              " 'Loreal Professionnel Serie Expert B6+ Biotin Inforcer Shampoo',\n",
              " \"L'Oreal Professionnel X-Tenso Care Serum\",\n",
              " \"L'Oreal Professionnel X-Tenso Care Pro-Keratine Shampoo & Masque\",\n",
              " \"L'Oreal Professionnel Absolut Repair Wheat Oil Serum\",\n",
              " \"L'oreal Professionnel Series Expert Prokeratin Liss Unlimited Masque\",\n",
              " \"L'Oreal Professionnel Serie Expert Absolut Repair Shampoo + Masque + Serum\",\n",
              " '₹1337',\n",
              " '₹2808',\n",
              " '₹1679',\n",
              " '₹1949',\n",
              " '₹580',\n",
              " '₹820',\n",
              " '₹665',\n",
              " '₹680',\n",
              " '₹685',\n",
              " '₹1670',\n",
              " '₹875',\n",
              " '₹600',\n",
              " '₹1139',\n",
              " '₹620',\n",
              " '₹1895',\n",
              " '( 6983 )',\n",
              " '( 1361 )',\n",
              " '( 12331 )',\n",
              " '( 6634 )',\n",
              " '( 6046 )',\n",
              " '( 3247 )',\n",
              " '( 3587 )',\n",
              " '( 2771 )',\n",
              " '( 3915 )',\n",
              " '( 1196 )',\n",
              " '( 593 )',\n",
              " '( 1315 )',\n",
              " '( 1305 )',\n",
              " '( 1435 )',\n",
              " '( 1278 )',\n",
              " '( 2325 )',\n",
              " '( 10020 )',\n",
              " '( 380 )',\n",
              " '( 1759 )',\n",
              " '( 7279 )']"
            ]
          },
          "metadata": {
            "tags": []
          },
          "execution_count": 51
        }
      ]
    },
    {
      "cell_type": "markdown",
      "metadata": {
        "id": "DwcmTwM8UXPy"
      },
      "source": [
        "## Searching similar result in web page using scraper object"
      ]
    },
    {
      "cell_type": "code",
      "metadata": {
        "colab": {
          "base_uri": "https://localhost:8080/"
        },
        "id": "Y9Kx7zwyxIXB",
        "outputId": "437b9df6-9b84-4594-d018-8a59515e5f52"
      },
      "source": [
        "result_set = scraper.get_result_similar(url, grouped=True)\n",
        "result_set"
      ],
      "execution_count": null,
      "outputs": [
        {
          "output_type": "execute_result",
          "data": {
            "text/plain": [
              "{'rule_bfmb': [\"L'Oreal Professionnel Absolut Repair Lipidium Shampoo & Masque\",\n",
              "  \"L'Oreal Professionnel Mythic Oil Shampoo + Masque + Oil\",\n",
              "  \"L'Oreal Professionnel X-Tenso Shampoo + Masque + Serum\",\n",
              "  \"L'Oreal Professionnel Serie Expert Shampoo + Masque + Serum\",\n",
              "  'LOreal Professionnel X-Tenso Care Pro-Keratine + Incell Shampoo',\n",
              "  \"L'Oreal Professionnel Serie Expert Absolut Repair Gold Quinoa + Protein Masque\",\n",
              "  'LOreal Professionnel Serie Expert Gold Quinoa + Protein Absolut Repair Shampoo',\n",
              "  \"L'oreal Professionnel Serie Expert Liss Unlimited Primrose Oil\",\n",
              "  \"L'Oreal Professionnel X-Tenso Care Masque\",\n",
              "  \"L'Oreal Professionnel X-Tenso Care Sulfate free Shampoo & Masque\",\n",
              "  \"L'Oreal Professionnel X-Tenso Care Shampoo Sulfate Free\",\n",
              "  \"L'Oreal Professionnel Instant Clear Znpt+Citric Acid Anti Dandruff Shampoo\",\n",
              "  \"L'Oreal Professionnel Expert Density Advanced Shampoo\",\n",
              "  'LOreal Professionnel Series Expert Resveratrol Vitamino Color Shampoo',\n",
              "  'Loreal Professionnel Serie Expert B6+ Biotin Inforcer Shampoo',\n",
              "  \"L'Oreal Professionnel X-Tenso Care Serum\",\n",
              "  \"L'Oreal Professionnel X-Tenso Care Pro-Keratine Shampoo & Masque\",\n",
              "  \"L'Oreal Professionnel Absolut Repair Wheat Oil Serum\",\n",
              "  \"L'oreal Professionnel Series Expert Prokeratin Liss Unlimited Masque\",\n",
              "  \"L'Oreal Professionnel Serie Expert Absolut Repair Shampoo + Masque + Serum\"],\n",
              " 'rule_cvcp': ['( 6983 )',\n",
              "  '( 1361 )',\n",
              "  '( 12331 )',\n",
              "  '( 6634 )',\n",
              "  '( 6046 )',\n",
              "  '( 3247 )',\n",
              "  '( 3587 )',\n",
              "  '( 2771 )',\n",
              "  '( 3915 )',\n",
              "  '( 1196 )',\n",
              "  '( 593 )',\n",
              "  '( 1315 )',\n",
              "  '( 1305 )',\n",
              "  '( 1435 )',\n",
              "  '( 1278 )',\n",
              "  '( 2325 )',\n",
              "  '( 10020 )',\n",
              "  '( 380 )',\n",
              "  '( 1759 )',\n",
              "  '( 7279 )'],\n",
              " 'rule_fdgr': ['₹1337',\n",
              "  '₹2808',\n",
              "  '₹1679',\n",
              "  '₹1949',\n",
              "  '₹580',\n",
              "  '₹820',\n",
              "  '₹665',\n",
              "  '₹680',\n",
              "  '₹685',\n",
              "  '₹1670',\n",
              "  '₹875',\n",
              "  '₹665',\n",
              "  '₹665',\n",
              "  '₹665',\n",
              "  '₹665',\n",
              "  '₹600',\n",
              "  '₹1139',\n",
              "  '₹620',\n",
              "  '₹820',\n",
              "  '₹1895']}"
            ]
          },
          "metadata": {
            "tags": []
          },
          "execution_count": 52
        }
      ]
    },
    {
      "cell_type": "markdown",
      "metadata": {
        "id": "WJzjpNiTUzh7"
      },
      "source": [
        "## Setting aliases for the result key to access result easily"
      ]
    },
    {
      "cell_type": "code",
      "metadata": {
        "colab": {
          "base_uri": "https://localhost:8080/"
        },
        "id": "cDp_1SfQ8kHo",
        "outputId": "fc6cf1ba-471b-4190-c0d6-4a16d76d0456"
      },
      "source": [
        "alias = {}\n",
        "for idx,key in enumerate(result_set):\n",
        "  alias[key] = \"Val\"+str(idx+1)\n",
        "\n",
        "print(alias)  "
      ],
      "execution_count": null,
      "outputs": [
        {
          "output_type": "stream",
          "text": [
            "{'rule_bfmb': 'Val1', 'rule_fdgr': 'Val2', 'rule_cvcp': 'Val3'}\n"
          ],
          "name": "stdout"
        }
      ]
    },
    {
      "cell_type": "markdown",
      "metadata": {
        "id": "5cdU6uhRU-rs"
      },
      "source": [
        "## Save the scraper object and reuse it for other similar url scraping"
      ]
    },
    {
      "cell_type": "code",
      "metadata": {
        "id": "J-IQW_GMzTlA"
      },
      "source": [
        "scraper.set_rule_aliases(alias)\n",
        "scraper.keep_rules(list(result_set.keys()))\n",
        "scraper.save('nykaa-product-search')"
      ],
      "execution_count": null,
      "outputs": []
    },
    {
      "cell_type": "code",
      "metadata": {
        "id": "mSJyoHJ3zTys"
      },
      "source": [
        "scraper.load('nykaa-product-search')"
      ],
      "execution_count": null,
      "outputs": []
    },
    {
      "cell_type": "code",
      "metadata": {
        "id": "JGYq7biNzT10"
      },
      "source": [
        "new_result = scraper.get_result_similar('https://www.nykaa.com/makeup/lips/c/15?ptype=lst&id=15&root=nav_2&dir=desc&order=popularity',group_by_alias=True)"
      ],
      "execution_count": null,
      "outputs": []
    },
    {
      "cell_type": "code",
      "metadata": {
        "colab": {
          "base_uri": "https://localhost:8080/"
        },
        "id": "Lr3E2NIy_THS",
        "outputId": "49a2d70d-1067-4d19-c4b2-96fd455a5e6d"
      },
      "source": [
        "new_result"
      ],
      "execution_count": null,
      "outputs": [
        {
          "output_type": "execute_result",
          "data": {
            "text/plain": [
              "{'Val1': ['Nykaa So Creme! Creamy Matte Lipstick',\n",
              "  'Maybelline New York Super Stay Matte Ink Liquid Lipstick',\n",
              "  'Lakme Absolute Matte Ultimate Lip Color with Argan Oil',\n",
              "  'M.A.C Retro Matte Lipstick - Ruby Woo',\n",
              "  'Kay Beauty Matteinee Matte Lip Crayon Lipstick',\n",
              "  'Lakme Forever Matte Liquid Lip Color',\n",
              "  'M.A.C Lipstick / Mini',\n",
              "  'Nykaa Matte To Last ! Liquid Lipstick',\n",
              "  'Faces Canada Ultime Pro Hd Intense Matte Lips + Primer',\n",
              "  'Lakme 9 to 5 Weightless Matte Mousse Lip & Cheek Color',\n",
              "  'Maybelline New York Color Sensational Creamy Matte Lipstick',\n",
              "  'Elle 18 Color Pops Matte Lipstick',\n",
              "  'Faces Canada Weightless Matte Finish Lipstick',\n",
              "  'Lakme Absolute Matte Melt Liquid Lip Color',\n",
              "  'SUGAR Smudge Me Not Liquid Lipstick',\n",
              "  'Nykaa So Matte Lipstick',\n",
              "  'LANEIGE Lip Sleeping Mask Berry',\n",
              "  'Huda Beauty Power Bullet Matte Lipstick',\n",
              "  'The Face Shop Water Fit Lip Tint',\n",
              "  'Maybelline New York Sensational Liquid Matte Lipstick'],\n",
              " 'Val2': ['₹224',\n",
              "  '₹455',\n",
              "  '₹400',\n",
              "  '₹1700',\n",
              "  '₹599',\n",
              "  '₹295',\n",
              "  '₹1050',\n",
              "  '₹300',\n",
              "  '₹639',\n",
              "  '₹450',\n",
              "  '₹239',\n",
              "  '₹75',\n",
              "  '₹239',\n",
              "  '₹375',\n",
              "  '₹499',\n",
              "  '₹200',\n",
              "  '₹500',\n",
              "  '₹1397',\n",
              "  '₹474',\n",
              "  '₹297'],\n",
              " 'Val3': ['( 24569 )',\n",
              "  '( 40339 )',\n",
              "  '( 4937 )',\n",
              "  '( 5742 )',\n",
              "  '( 9097 )',\n",
              "  '( 20624 )',\n",
              "  '( 13412 )',\n",
              "  '( 27338 )',\n",
              "  '( 12258 )',\n",
              "  '( 24979 )',\n",
              "  '( 52014 )',\n",
              "  '( 18328 )',\n",
              "  '( 19847 )',\n",
              "  '( 20153 )',\n",
              "  '( 16115 )',\n",
              "  '( 19041 )',\n",
              "  '( 15823 )',\n",
              "  '( 3078 )',\n",
              "  '( 3861 )',\n",
              "  '( 14012 )']}"
            ]
          },
          "metadata": {
            "tags": []
          },
          "execution_count": 57
        }
      ]
    },
    {
      "cell_type": "code",
      "metadata": {
        "colab": {
          "base_uri": "https://localhost:8080/"
        },
        "id": "bXDmvfSC7X_7",
        "outputId": "ddb8fa81-1b2d-4def-e06c-5ae03f6637da"
      },
      "source": [
        "new_result['Val1']"
      ],
      "execution_count": null,
      "outputs": [
        {
          "output_type": "execute_result",
          "data": {
            "text/plain": [
              "['Nykaa So Creme! Creamy Matte Lipstick',\n",
              " 'Maybelline New York Super Stay Matte Ink Liquid Lipstick',\n",
              " 'Lakme Absolute Matte Ultimate Lip Color with Argan Oil',\n",
              " 'M.A.C Retro Matte Lipstick - Ruby Woo',\n",
              " 'Kay Beauty Matteinee Matte Lip Crayon Lipstick',\n",
              " 'Lakme Forever Matte Liquid Lip Color',\n",
              " 'M.A.C Lipstick / Mini',\n",
              " 'Nykaa Matte To Last ! Liquid Lipstick',\n",
              " 'Faces Canada Ultime Pro Hd Intense Matte Lips + Primer',\n",
              " 'Lakme 9 to 5 Weightless Matte Mousse Lip & Cheek Color',\n",
              " 'Maybelline New York Color Sensational Creamy Matte Lipstick',\n",
              " 'Elle 18 Color Pops Matte Lipstick',\n",
              " 'Faces Canada Weightless Matte Finish Lipstick',\n",
              " 'Lakme Absolute Matte Melt Liquid Lip Color',\n",
              " 'SUGAR Smudge Me Not Liquid Lipstick',\n",
              " 'Nykaa So Matte Lipstick',\n",
              " 'LANEIGE Lip Sleeping Mask Berry',\n",
              " 'Huda Beauty Power Bullet Matte Lipstick',\n",
              " 'The Face Shop Water Fit Lip Tint',\n",
              " 'Maybelline New York Sensational Liquid Matte Lipstick']"
            ]
          },
          "metadata": {
            "tags": []
          },
          "execution_count": 58
        }
      ]
    },
    {
      "cell_type": "code",
      "metadata": {
        "colab": {
          "base_uri": "https://localhost:8080/"
        },
        "id": "0JlQkpSb7dj0",
        "outputId": "1a43ce2e-3077-4006-bcf6-4d34ae71aa3c"
      },
      "source": [
        "new_result['Val2']"
      ],
      "execution_count": null,
      "outputs": [
        {
          "output_type": "execute_result",
          "data": {
            "text/plain": [
              "['₹224',\n",
              " '₹455',\n",
              " '₹400',\n",
              " '₹1700',\n",
              " '₹599',\n",
              " '₹295',\n",
              " '₹1050',\n",
              " '₹300',\n",
              " '₹639',\n",
              " '₹450',\n",
              " '₹239',\n",
              " '₹75',\n",
              " '₹239',\n",
              " '₹375',\n",
              " '₹499',\n",
              " '₹200',\n",
              " '₹500',\n",
              " '₹1397',\n",
              " '₹474',\n",
              " '₹297']"
            ]
          },
          "metadata": {
            "tags": []
          },
          "execution_count": 59
        }
      ]
    },
    {
      "cell_type": "code",
      "metadata": {
        "colab": {
          "base_uri": "https://localhost:8080/"
        },
        "id": "aLV3E_ri7xFB",
        "outputId": "6bea69ac-7f03-4263-c5cd-6c926887aa4c"
      },
      "source": [
        "new_result['Val3']"
      ],
      "execution_count": null,
      "outputs": [
        {
          "output_type": "execute_result",
          "data": {
            "text/plain": [
              "['( 24569 )',\n",
              " '( 40339 )',\n",
              " '( 4937 )',\n",
              " '( 5742 )',\n",
              " '( 9097 )',\n",
              " '( 20624 )',\n",
              " '( 13412 )',\n",
              " '( 27338 )',\n",
              " '( 12258 )',\n",
              " '( 24979 )',\n",
              " '( 52014 )',\n",
              " '( 18328 )',\n",
              " '( 19847 )',\n",
              " '( 20153 )',\n",
              " '( 16115 )',\n",
              " '( 19041 )',\n",
              " '( 15823 )',\n",
              " '( 3078 )',\n",
              " '( 3861 )',\n",
              " '( 14012 )']"
            ]
          },
          "metadata": {
            "tags": []
          },
          "execution_count": 60
        }
      ]
    },
    {
      "cell_type": "code",
      "metadata": {
        "id": "uPz2ze2M_M-p"
      },
      "source": [
        "#END"
      ],
      "execution_count": null,
      "outputs": []
    }
  ]
}